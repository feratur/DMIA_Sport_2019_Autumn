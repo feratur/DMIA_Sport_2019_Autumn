{
 "cells": [
  {
   "cell_type": "code",
   "execution_count": 1,
   "metadata": {},
   "outputs": [],
   "source": [
    "import pandas as pd"
   ]
  },
  {
   "cell_type": "code",
   "execution_count": 2,
   "metadata": {},
   "outputs": [],
   "source": [
    "freq_passwords = dict()\n",
    "\n",
    "with open('freq_passwords.csv', 'r') as f:\n",
    "    for line in f:\n",
    "        if line:\n",
    "            parts = line.split(',')\n",
    "            freq_passwords[parts[0]] = int(parts[1])"
   ]
  },
  {
   "cell_type": "code",
   "execution_count": 3,
   "metadata": {},
   "outputs": [],
   "source": [
    "test = pd.read_csv('Xtest.csv')"
   ]
  },
  {
   "cell_type": "code",
   "execution_count": 4,
   "metadata": {},
   "outputs": [],
   "source": [
    "with open('output.csv', 'w+') as f:\n",
    "    f.write('Id,Times\\n')\n",
    "    for index, row in test.iterrows():\n",
    "        pswd = row['Password']\n",
    "        count = 1\n",
    "        \n",
    "        if pswd in freq_passwords:\n",
    "            count = freq_passwords[pswd]\n",
    "        \n",
    "        f.write('{},{}\\n'.format(row['Id'], count))"
   ]
  },
  {
   "cell_type": "code",
   "execution_count": null,
   "metadata": {},
   "outputs": [],
   "source": []
  }
 ],
 "metadata": {
  "kernelspec": {
   "display_name": "Python 3",
   "language": "python",
   "name": "python3"
  },
  "language_info": {
   "codemirror_mode": {
    "name": "ipython",
    "version": 3
   },
   "file_extension": ".py",
   "mimetype": "text/x-python",
   "name": "python",
   "nbconvert_exporter": "python",
   "pygments_lexer": "ipython3",
   "version": "3.6.6"
  }
 },
 "nbformat": 4,
 "nbformat_minor": 2
}
